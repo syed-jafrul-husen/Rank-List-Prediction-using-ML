{
 "cells": [
  {
   "cell_type": "markdown",
   "metadata": {},
   "source": [
    "# Rank List Prediction:"
   ]
  },
  {
   "cell_type": "code",
   "execution_count": null,
   "metadata": {},
   "outputs": [],
   "source": [
    "import numpy as np \n",
    "import pandas as pd \n",
    "import seaborn as seab \n",
    "import matplotlib.pyplot as plt\n",
    "from IPython.display import display\n",
    "from ipywidgets import widgets\n",
    "from sklearn import preprocessing, svm \n",
    "from sklearn.model_selection import train_test_split \n",
    "from sklearn.linear_model import LinearRegression "
   ]
  },
  {
   "cell_type": "code",
   "execution_count": null,
   "metadata": {},
   "outputs": [],
   "source": [
    "data = pd.read_csv('innovators.csv',delimiter=',',names=['a','b','c']) \n",
    "\n",
    "#df_binary = df[['Pretest_Result','Test_Result','SSC_Result']]\n",
    "\n",
    "#df_binary.columns = ['Pretest_Result','Test_Result','SSC_Result']\n",
    "\n",
    "data.head()"
   ]
  },
  {
   "cell_type": "code",
   "execution_count": null,
   "metadata": {},
   "outputs": [],
   "source": []
  },
  {
   "cell_type": "code",
   "execution_count": null,
   "metadata": {},
   "outputs": [],
   "source": [
    "y=data['c']\n",
    "\n",
    "x = zip(data['a'],data['b'])\n",
    "\n",
    "X = []\n",
    "for i in x:\n",
    "    X.append(i)\n",
    "    \n",
    "    \n",
    "    \n",
    "X=np.array(X)\n",
    "y=np.array(y)\n",
    "\n",
    "\n",
    "X_train, X_test, y_train, y_test = train_test_split(X, y, test_size = 0.2)\n",
    "\n",
    "regr = LinearRegression()\n",
    "\n",
    "regr.fit(X_train, y_train)\n",
    "print(regr.score(X_test, y_test))\n",
    "\n",
    "#print(y)\n",
    "#print(X)"
   ]
  },
  {
   "cell_type": "code",
   "execution_count": null,
   "metadata": {},
   "outputs": [],
   "source": [
    "rank = []\n",
    "cnt = 0\n",
    "for i in range(7):\n",
    "    cnt = cnt + 1\n",
    "    print()\n",
    "    print()\n",
    "    print('Enter Input: ',cnt)\n",
    "    uv = (input(\"Enter University Name :\"))\n",
    "    t1 = eval(input(\"Enter Codeforces rating :\"))\n",
    "    t2 = eval(input(\"Enter previous rank :\"))\n",
    "    p=[[t1,t2]]\n",
    "    rank.append([uv,regr.predict(p)])\n",
    "rank = sorted(rank,key=lambda x: (x[1]))\n",
    "print(rank)"
   ]
  },
  {
   "cell_type": "code",
   "execution_count": null,
   "metadata": {},
   "outputs": [],
   "source": [
    "print('Rank List: ')\n",
    "print('   ','Rank','    ','University')\n",
    "for i in range(7):\n",
    "    print(i+1,'             ',rank[i][0])"
   ]
  },
  {
   "cell_type": "code",
   "execution_count": null,
   "metadata": {},
   "outputs": [],
   "source": []
  },
  {
   "cell_type": "code",
   "execution_count": null,
   "metadata": {},
   "outputs": [],
   "source": []
  }
 ],
 "metadata": {
  "kernelspec": {
   "display_name": "Python 3",
   "language": "python",
   "name": "python3"
  },
  "language_info": {
   "codemirror_mode": {
    "name": "ipython",
    "version": 3
   },
   "file_extension": ".py",
   "mimetype": "text/x-python",
   "name": "python",
   "nbconvert_exporter": "python",
   "pygments_lexer": "ipython3",
   "version": "3.7.3"
  }
 },
 "nbformat": 4,
 "nbformat_minor": 2
}
